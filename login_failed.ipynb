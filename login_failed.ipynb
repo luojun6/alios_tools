{
 "cells": [
  {
   "cell_type": "code",
   "execution_count": 1,
   "id": "4a02e7e2",
   "metadata": {},
   "outputs": [],
   "source": [
    "from file_mgmt import LocalFilesManager\n",
    "import os"
   ]
  },
  {
   "cell_type": "code",
   "execution_count": 2,
   "id": "c2186380",
   "metadata": {},
   "outputs": [],
   "source": [
    "dir_name = \"logs/login_failed\"\n",
    "file_types = \"txt\""
   ]
  },
  {
   "cell_type": "code",
   "execution_count": 3,
   "id": "10abd6d3",
   "metadata": {},
   "outputs": [],
   "source": [
    "file_mgr = LocalFilesManager(file_types=file_types, dir_name=dir_name)"
   ]
  },
  {
   "cell_type": "code",
   "execution_count": 4,
   "id": "b19ca29c",
   "metadata": {},
   "outputs": [
    {
     "name": "stderr",
     "output_type": "stream",
     "text": [
      "2024-01-22 14:16:02,509 - INFO - Found 135 files.\n"
     ]
    }
   ],
   "source": [
    "all_files = file_mgr.find_all_files()"
   ]
  },
  {
   "cell_type": "code",
   "execution_count": 7,
   "id": "413142dd",
   "metadata": {},
   "outputs": [
    {
     "name": "stderr",
     "output_type": "stream",
     "text": [
      "2024-01-22 14:17:40,429 - INFO - There are 35 files matched keywords.\n"
     ]
    }
   ],
   "source": [
    "aplog_files_hash = file_mgr.find_files_with_keywords(inclusive_keywords=\"aplogcat\")\n",
    "output_aplog_file = os.path.join(file_mgr.target_dir, \"aplogcat.txt\")\n",
    "file_mgr.concat_txt_files(aplog_files_hash, output_aplog_file)"
   ]
  },
  {
   "cell_type": "code",
   "execution_count": 6,
   "id": "32615c68",
   "metadata": {},
   "outputs": [
    {
     "name": "stderr",
     "output_type": "stream",
     "text": [
      "2024-01-22 14:16:17,597 - INFO - There are 33 files matched keywords.\n"
     ]
    }
   ],
   "source": [
    "kernel_files_hash = file_mgr.find_files_with_keywords(inclusive_keywords=\"kernel\")\n",
    "output_kernel_file = os.path.join(file_mgr.target_dir, \"kernel_log.txt\")\n",
    "file_mgr.concat_txt_files(kernel_files_hash, output_kernel_file)"
   ]
  },
  {
   "cell_type": "code",
   "execution_count": null,
   "id": "02b37209",
   "metadata": {},
   "outputs": [],
   "source": []
  },
  {
   "cell_type": "code",
   "execution_count": 8,
   "id": "2307381f",
   "metadata": {},
   "outputs": [],
   "source": [
    "car1_file_types = \"txt\"\n",
    "car1_dir_name = \"logs/login_failed/car1\""
   ]
  },
  {
   "cell_type": "code",
   "execution_count": 9,
   "id": "73658299",
   "metadata": {},
   "outputs": [],
   "source": [
    "car1_file_mgr = LocalFilesManager(file_types=car1_file_types, dir_name=car1_dir_name)"
   ]
  },
  {
   "cell_type": "code",
   "execution_count": 11,
   "id": "81a670e4",
   "metadata": {},
   "outputs": [
    {
     "name": "stderr",
     "output_type": "stream",
     "text": [
      "2024-01-22 15:02:59,771 - INFO - Found 106 files.\n"
     ]
    }
   ],
   "source": [
    "car1_all_files = car1_file_mgr.find_all_files()"
   ]
  },
  {
   "cell_type": "code",
   "execution_count": 14,
   "id": "c6ab5b65",
   "metadata": {},
   "outputs": [
    {
     "name": "stderr",
     "output_type": "stream",
     "text": [
      "2024-01-22 15:04:39,783 - INFO - There are 24 files matched keywords.\n"
     ]
    }
   ],
   "source": [
    "car1_aplog_files_hash = car1_file_mgr.find_files_with_keywords(inclusive_keywords=\"aplogcat\")\n",
    "car1_output_aplog_file = os.path.join(car1_file_mgr.target_dir, \"car1_aplogcat.txt\")\n",
    "car1_file_mgr.concat_txt_files(car1_aplog_files_hash, car1_output_aplog_file)"
   ]
  },
  {
   "cell_type": "code",
   "execution_count": null,
   "id": "5a8b940c",
   "metadata": {},
   "outputs": [],
   "source": []
  },
  {
   "cell_type": "code",
   "execution_count": null,
   "id": "d94fb217",
   "metadata": {},
   "outputs": [],
   "source": []
  },
  {
   "cell_type": "code",
   "execution_count": 15,
   "id": "efd78856",
   "metadata": {},
   "outputs": [],
   "source": [
    "import pandas as pd"
   ]
  },
  {
   "cell_type": "code",
   "execution_count": 17,
   "id": "b19ec916",
   "metadata": {},
   "outputs": [
    {
     "data": {
      "text/html": [
       "<div>\n",
       "<style scoped>\n",
       "    .dataframe tbody tr th:only-of-type {\n",
       "        vertical-align: middle;\n",
       "    }\n",
       "\n",
       "    .dataframe tbody tr th {\n",
       "        vertical-align: top;\n",
       "    }\n",
       "\n",
       "    .dataframe thead th {\n",
       "        text-align: right;\n",
       "    }\n",
       "</style>\n",
       "<table border=\"1\" class=\"dataframe\">\n",
       "  <thead>\n",
       "    <tr style=\"text-align: right;\">\n",
       "      <th></th>\n",
       "      <th>01-21</th>\n",
       "      <th>10:37:32.184</th>\n",
       "      <th>5</th>\n",
       "      <th>2167</th>\n",
       "      <th>2338</th>\n",
       "      <th>I</th>\n",
       "      <th>bmlog: rename /private/custom/bmlog/33/20240121_103532_181_1_aplogcat.txt.Z to /private/custom/bmlog/33/20240121_103532_181_1_aplogcat.txt.zst</th>\n",
       "    </tr>\n",
       "  </thead>\n",
       "  <tbody>\n",
       "    <tr>\n",
       "      <th>0</th>\n",
       "      <td>01-21</td>\n",
       "      <td>10:37:32.191</td>\n",
       "      <td>5</td>\n",
       "      <td>2167</td>\n",
       "      <td>2338</td>\n",
       "      <td>I</td>\n",
       "      <td>bmlog: create file /private/custom/bmlog/33/20...</td>\n",
       "    </tr>\n",
       "    <tr>\n",
       "      <th>1</th>\n",
       "      <td>01-21</td>\n",
       "      <td>10:37:32.194</td>\n",
       "      <td>4</td>\n",
       "      <td>3162</td>\n",
       "      <td>5540</td>\n",
       "      <td>I</td>\n",
       "      <td>ZebraLog: BMMapviewObserverImpl::OnCheckIngDat...</td>\n",
       "    </tr>\n",
       "    <tr>\n",
       "      <th>2</th>\n",
       "      <td>01-21</td>\n",
       "      <td>10:37:32.261</td>\n",
       "      <td>4</td>\n",
       "      <td>3162</td>\n",
       "      <td>5540</td>\n",
       "      <td>I</td>\n",
       "      <td>ZebraLog: BMMapviewObserverImpl::OnCheckIngDat...</td>\n",
       "    </tr>\n",
       "    <tr>\n",
       "      <th>3</th>\n",
       "      <td>01-21</td>\n",
       "      <td>10:37:32.328</td>\n",
       "      <td>4</td>\n",
       "      <td>3162</td>\n",
       "      <td>5540</td>\n",
       "      <td>I</td>\n",
       "      <td>ZebraLog: BMMapviewObserverImpl::OnCheckIngDat...</td>\n",
       "    </tr>\n",
       "    <tr>\n",
       "      <th>4</th>\n",
       "      <td>01-21</td>\n",
       "      <td>10:37:32.346</td>\n",
       "      <td>4</td>\n",
       "      <td>2622</td>\n",
       "      <td>2692</td>\n",
       "      <td>W</td>\n",
       "      <td>car_service: [ISignalHandler.cpp:207]:IPCL_CAN...</td>\n",
       "    </tr>\n",
       "    <tr>\n",
       "      <th>...</th>\n",
       "      <td>...</td>\n",
       "      <td>...</td>\n",
       "      <td>...</td>\n",
       "      <td>...</td>\n",
       "      <td>...</td>\n",
       "      <td>...</td>\n",
       "      <td>...</td>\n",
       "    </tr>\n",
       "    <tr>\n",
       "      <th>2695901</th>\n",
       "      <td>01-21</td>\n",
       "      <td>11:10:40.449</td>\n",
       "      <td>3</td>\n",
       "      <td>2660</td>\n",
       "      <td>2709</td>\n",
       "      <td>I</td>\n",
       "      <td>Base-Looper: Quit the looper</td>\n",
       "    </tr>\n",
       "    <tr>\n",
       "      <th>2695902</th>\n",
       "      <td>01-21</td>\n",
       "      <td>11:10:40.449</td>\n",
       "      <td>4</td>\n",
       "      <td>5710</td>\n",
       "      <td>5710</td>\n",
       "      <td>I</td>\n",
       "      <td>WifiManager: signal got DeviceChanged</td>\n",
       "    </tr>\n",
       "    <tr>\n",
       "      <th>2695903</th>\n",
       "      <td>01-21</td>\n",
       "      <td>11:10:40.449</td>\n",
       "      <td>4</td>\n",
       "      <td>5710</td>\n",
       "      <td>5710</td>\n",
       "      <td>I</td>\n",
       "      <td>WifiManager: DevicChanged signal. state 0</td>\n",
       "    </tr>\n",
       "    <tr>\n",
       "      <th>2695904</th>\n",
       "      <td>01-21</td>\n",
       "      <td>11:10:40.449</td>\n",
       "      <td>3</td>\n",
       "      <td>2660</td>\n",
       "      <td>2660</td>\n",
       "      <td>I</td>\n",
       "      <td>dbusloop@commonipc: requestExitAndWait end</td>\n",
       "    </tr>\n",
       "    <tr>\n",
       "      <th>2695905</th>\n",
       "      <td>01-21</td>\n",
       "      <td>11:10:40.451</td>\n",
       "      <td>4</td>\n",
       "      <td>2601</td>\n",
       "      <td>2601</td>\n",
       "      <td>I</td>\n",
       "      <td>NMD-NetworkService: notifyInterfaceChanged ifa...</td>\n",
       "    </tr>\n",
       "  </tbody>\n",
       "</table>\n",
       "<p>2695906 rows × 7 columns</p>\n",
       "</div>"
      ],
      "text/plain": [
       "         01-21  10:37:32.184  5  2167  2338  I  \\\n",
       "0        01-21  10:37:32.191  5  2167  2338  I   \n",
       "1        01-21  10:37:32.194  4  3162  5540  I   \n",
       "2        01-21  10:37:32.261  4  3162  5540  I   \n",
       "3        01-21  10:37:32.328  4  3162  5540  I   \n",
       "4        01-21  10:37:32.346  4  2622  2692  W   \n",
       "...        ...           ... ..   ...   ... ..   \n",
       "2695901  01-21  11:10:40.449  3  2660  2709  I   \n",
       "2695902  01-21  11:10:40.449  4  5710  5710  I   \n",
       "2695903  01-21  11:10:40.449  4  5710  5710  I   \n",
       "2695904  01-21  11:10:40.449  3  2660  2660  I   \n",
       "2695905  01-21  11:10:40.451  4  2601  2601  I   \n",
       "\n",
       "        bmlog: rename /private/custom/bmlog/33/20240121_103532_181_1_aplogcat.txt.Z to /private/custom/bmlog/33/20240121_103532_181_1_aplogcat.txt.zst  \n",
       "0        bmlog: create file /private/custom/bmlog/33/20...                                                                                              \n",
       "1        ZebraLog: BMMapviewObserverImpl::OnCheckIngDat...                                                                                              \n",
       "2        ZebraLog: BMMapviewObserverImpl::OnCheckIngDat...                                                                                              \n",
       "3        ZebraLog: BMMapviewObserverImpl::OnCheckIngDat...                                                                                              \n",
       "4        car_service: [ISignalHandler.cpp:207]:IPCL_CAN...                                                                                              \n",
       "...                                                    ...                                                                                              \n",
       "2695901                       Base-Looper: Quit the looper                                                                                              \n",
       "2695902              WifiManager: signal got DeviceChanged                                                                                              \n",
       "2695903          WifiManager: DevicChanged signal. state 0                                                                                              \n",
       "2695904         dbusloop@commonipc: requestExitAndWait end                                                                                              \n",
       "2695905  NMD-NetworkService: notifyInterfaceChanged ifa...                                                                                              \n",
       "\n",
       "[2695906 rows x 7 columns]"
      ]
     },
     "execution_count": 17,
     "metadata": {},
     "output_type": "execute_result"
    }
   ],
   "source": [
    "pd.read_fwf(car1_output_aplog_file, encoding = \"ISO-8859-1\", header=None)"
   ]
  },
  {
   "cell_type": "code",
   "execution_count": null,
   "id": "7d14911a",
   "metadata": {},
   "outputs": [],
   "source": []
  }
 ],
 "metadata": {
  "kernelspec": {
   "display_name": "Python 3 (ipykernel)",
   "language": "python",
   "name": "python3"
  },
  "language_info": {
   "codemirror_mode": {
    "name": "ipython",
    "version": 3
   },
   "file_extension": ".py",
   "mimetype": "text/x-python",
   "name": "python",
   "nbconvert_exporter": "python",
   "pygments_lexer": "ipython3",
   "version": "3.9.7"
  }
 },
 "nbformat": 4,
 "nbformat_minor": 5
}
