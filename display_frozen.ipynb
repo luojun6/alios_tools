{
 "cells": [
  {
   "cell_type": "code",
   "execution_count": 1,
   "id": "f06d3e4c",
   "metadata": {},
   "outputs": [
    {
     "name": "stderr",
     "output_type": "stream",
     "text": [
      "/home/lawjune/anaconda3/lib/python3.9/site-packages/pandas/core/computation/expressions.py:21: UserWarning: Pandas requires version '2.8.0' or newer of 'numexpr' (version '2.7.3' currently installed).\n",
      "  from pandas.core.computation.check import NUMEXPR_INSTALLED\n",
      "/home/lawjune/anaconda3/lib/python3.9/site-packages/pandas/core/arrays/masked.py:62: UserWarning: Pandas requires version '1.3.4' or newer of 'bottleneck' (version '1.3.2' currently installed).\n",
      "  from pandas.core import (\n"
     ]
    }
   ],
   "source": [
    "import os\n",
    "from explore_yuntool_logs import *"
   ]
  },
  {
   "cell_type": "code",
   "execution_count": 3,
   "id": "833306f9",
   "metadata": {},
   "outputs": [],
   "source": [
    "log_path = os.path.join(current_dir, r\"logs/display_frozen/85851749_LSJWM6391PZ843642_1699925580123\")"
   ]
  },
  {
   "cell_type": "code",
   "execution_count": 4,
   "id": "53cd6ad6",
   "metadata": {},
   "outputs": [
    {
     "name": "stdout",
     "output_type": "stream",
     "text": [
      "Found 37 txt.zst files.\n",
      "Extracting EVARTZ3CZIAKYVNP3Q1Q_20231114_081637_506_13_aplogcat.txt.zst with completion 1/37.\n",
      "Extracting EVARTDSX1MDC8XW5U9VU_20231114_072439_935_12_aplogcat.txt.zst with completion 2/37.\n",
      "Extracting EVARTX1KZTWBRIWEQR5X_20231114_081317_452_11_aplogcat.txt.zst with completion 3/37.\n",
      "Extracting EVARTVI95LXOWPY7X8LJ_20231114_081137_485_10_aplogcat.txt.zst with completion 4/37.\n",
      "Extracting EVARTJAIVVE90JL0RCMW_20231114_073254_863_18_aplogcat.txt.zst with completion 5/37.\n",
      "Extracting EVARTOKJXD86UGKRV6L5_20231114_074049_807_24_aplogcat.txt.zst with completion 6/37.\n",
      "Extracting EVART9VW1FWGH80TC8NC_20231114_070400_928_1_aplogcat.txt.zst with completion 7/37.\n",
      "Extracting EVARTTK5NLRQX2GRSZ44_20231114_080508_423_6_aplogcat.txt.zst with completion 8/37.\n",
      "Extracting EVARTL8NYTWYZ4CO414G_20231114_073411_848_19_aplogcat.txt.zst with completion 9/37.\n",
      "Extracting EVARTAKCHUTDZBJAWAN3_20231114_070550_852_2_aplogcat.txt.zst with completion 10/37.\n",
      "Extracting EVARTOIW8U8NF01YWFID_20231114_073929_983_23_aplogcat.txt.zst with completion 11/37.\n",
      "Extracting EVARTJ9KKO8RH39HN80L_20231114_073135_923_17_aplogcat.txt.zst with completion 12/37.\n",
      "Extracting EVARTBV0VHLKVD0ITUVW_20231114_070949_850_4_aplogcat.txt.zst with completion 13/37.\n",
      "Extracting EVARTR8PRGHUQFOQVXT4_20231114_075828_412_2_aplogcat.txt.zst with completion 14/37.\n",
      "Extracting EVARTHYY3PF0VFW4FSH1_20231114_073015_893_16_aplogcat.txt.zst with completion 15/37.\n",
      "Extracting EVARTMHIH9IIZK5TOD09_20231114_073651_850_21_aplogcat.txt.zst with completion 16/37.\n",
      "Extracting EVARTUTTMSJOO53A27OW_20231114_080817_513_8_aplogcat.txt.zst with completion 17/37.\n",
      "Extracting EVARTRUL3OCR3SZCWBV3_20231114_080008_416_3_aplogcat.txt.zst with completion 18/37.\n",
      "Extracting EVARTPZG63NXOJ6MI58F_20231114_075544_398_0_aplogcat.txt.zst with completion 19/37.\n",
      "Extracting EVART8R8RJ8A4TQ9RRVW_20231114_070249_081_0_aplogcat.txt.zst with completion 20/37.\n",
      "Extracting EVARTMCA7B6YLB7TVMHA_20231114_073531_847_20_aplogcat.txt.zst with completion 21/37.\n",
      "Extracting EVARTQ3QMHW65HGMNBJ1_20231114_075708_516_1_aplogcat.txt.zst with completion 22/37.\n",
      "Extracting EVARTXXJPK2OOGEO9GXL_20231114_081457_504_12_aplogcat.txt.zst with completion 23/37.\n",
      "Extracting EVARTFUIUARZDSGLPEFP_20231114_072855_923_15_aplogcat.txt.zst with completion 24/37.\n",
      "Extracting EVARU082VUDGSNKN90T0_20231114_081817_453_14_aplogcat.txt.zst with completion 25/37.\n",
      "Extracting EVARTSH6J43QS1R0XWPN_20231114_080148_994_4_aplogcat.txt.zst with completion 26/37.\n",
      "Extracting EVARTFOJK1FVXCKTH417_20231114_072725_925_14_aplogcat.txt.zst with completion 27/37.\n",
      "Extracting EVARTCIK8TN88ETP8JZQ_20231114_072059_933_10_aplogcat.txt.zst with completion 28/37.\n",
      "Extracting EVARTEJJBAAE4ZRD1HX0_20231114_072609_024_13_aplogcat.txt.zst with completion 29/37.\n",
      "Extracting EVARTSIE97UEDU4YIKQ8_20231114_080328_490_5_aplogcat.txt.zst with completion 30/37.\n",
      "Extracting EVARTPP09MRX3VTYICSH_20231114_074206_850_25_aplogcat.txt.zst with completion 31/37.\n",
      "Extracting EVARTVHVD8JOLKYJ331L_20231114_080957_695_9_aplogcat.txt.zst with completion 32/37.\n",
      "Extracting EVARU09GAZ5LE0LKEY2W_20231114_081957_494_15_aplogcat.txt.zst with completion 33/37.\n",
      "Extracting EVARTNVT93MUVF38V3WT_20231114_073811_784_22_aplogcat.txt.zst with completion 34/37.\n",
      "Extracting EVARTD3XNMK7T9TXQOW7_20231114_072249_876_11_aplogcat.txt.zst with completion 35/37.\n",
      "Extracting EVARTU7XT0G90SQNCAKZ_20231114_080648_597_7_aplogcat.txt.zst with completion 36/37.\n",
      "Extracting EVARTB57S6HGMNKGZLVP_20231114_070759_881_3_aplogcat.txt.zst with completion 37/37.\n",
      "Extraction completed.\n",
      "Found 28 txt.zst files.\n",
      "Extracting EVARTNQNXCXKN9MCQUKV_20231114_073716_358_17_kernellog.txt.zst with completion 1/28.\n",
      "Extracting EVARTTRWK1B7WYBWVIZT_20231114_080551_683_5_kernellog.txt.zst with completion 2/28.\n",
      "Extracting EVARTY62PVHV6G8VGXJT_20231114_081559_590_10_kernellog.txt.zst with completion 3/28.\n",
      "Extracting EVARTHR233LPXP6ION6R_20231114_072909_128_13_kernellog.txt.zst with completion 4/28.\n",
      "Extracting EVARTPKCRZVTJORPL2S2_20231114_074119_654_19_kernellog.txt.zst with completion 5/28.\n",
      "Extracting EVARTWWD3384IDXPU5DW_20231114_081156_091_8_kernellog.txt.zst with completion 6/28.\n",
      "Extracting EVARTCQBKAF58J9F3VH6_20231114_072103_026_9_kernellog.txt.zst with completion 7/28.\n",
      "Extracting EVARTTEZFGPHTWISQCEC_20231114_080350_089_4_kernellog.txt.zst with completion 8/28.\n",
      "Extracting EVARTRGECXC2ZJR9P98H_20231114_075947_090_2_kernellog.txt.zst with completion 9/28.\n",
      "Extracting EVARTLTBNJL7AK9RUGSI_20231114_073514_947_16_kernellog.txt.zst with completion 10/28.\n",
      "Extracting EVARTDC5TFQ5PHACXLL3_20231114_072304_628_10_kernellog.txt.zst with completion 11/28.\n",
      "Extracting EVARTIN0DS52E6TIAM2E_20231114_073110_627_14_kernellog.txt.zst with completion 12/28.\n",
      "Extracting EVARTPUKWDYKFU8HFL2L_20231114_075544_397_0_kernellog.txt.zst with completion 13/28.\n",
      "Extracting EVARTR3JTNA6NAW5SY6T_20231114_075745_583_1_kernellog.txt.zst with completion 14/28.\n",
      "Extracting EVARTE2DARDLOAPJQZL3_20231114_072506_224_11_kernellog.txt.zst with completion 15/28.\n",
      "Extracting EVARTASY4239MC2NE4YP_20231114_070652_528_2_kernellog.txt.zst with completion 16/28.\n",
      "Extracting EVART9QP13TBR20KEAA7_20231114_070249_081_0_kernellog.txt.zst with completion 17/28.\n",
      "Extracting EVARTZGMAMEYXSIJJIDF_20231114_081801_583_11_kernellog.txt.zst with completion 18/28.\n",
      "Extracting EVARTUFNWR4VSEVY4JGJ_20231114_080753_189_6_kernellog.txt.zst with completion 19/28.\n",
      "Extracting EVARTRZVV5G83J2JNMP7_20231114_080148_383_3_kernellog.txt.zst with completion 20/28.\n",
      "Extracting EVARTL18NRGM20ZEIJR1_20231114_073312_447_15_kernellog.txt.zst with completion 21/28.\n",
      "Extracting EVARTO5FXUDK20TBG7AM_20231114_073917_755_18_kernellog.txt.zst with completion 22/28.\n",
      "Extracting EVARTA7G8FZR2B5NL4GW_20231114_070451_122_1_kernellog.txt.zst with completion 23/28.\n",
      "Extracting EVARTCAZSPD7R9F6BXFB_20231114_071055_331_4_kernellog.txt.zst with completion 24/28.\n",
      "Extracting EVARTBK4KVRGPV33DZQU_20231114_070853_731_3_kernellog.txt.zst with completion 25/28.\n",
      "Extracting EVARTV0HDZ8PLA7ZJXOX_20231114_080954_796_7_kernellog.txt.zst with completion 26/28.\n",
      "Extracting EVARTFBNOD262QGNMNQZ_20231114_072707_622_12_kernellog.txt.zst with completion 27/28.\n",
      "Extracting EVARTXAUVSYCEU4S8P9C_20231114_081358_086_9_kernellog.txt.zst with completion 28/28.\n",
      "Extraction completed.\n",
      "Found 65 txt.gz files.\n",
      "Merging EVARTRUL3OCR3SZCWBV3_20231114_080008_416_3_aplogcat.csv with completion 1/65.\n",
      "Merging EVARTU7XT0G90SQNCAKZ_20231114_080648_597_7_aplogcat.csv with completion 2/65.\n",
      "Merging EVARTCAZSPD7R9F6BXFB_20231114_071055_331_4_kernellog.csv with completion 3/65.\n",
      "Merging EVARTDSX1MDC8XW5U9VU_20231114_072439_935_12_aplogcat.csv with completion 4/65.\n",
      "Merging EVARTUTTMSJOO53A27OW_20231114_080817_513_8_aplogcat.csv with completion 5/65.\n",
      "Merging EVARTXXJPK2OOGEO9GXL_20231114_081457_504_12_aplogcat.csv with completion 6/65.\n",
      "Merging EVARTCIK8TN88ETP8JZQ_20231114_072059_933_10_aplogcat.csv with completion 7/65.\n",
      "Merging EVARTPZG63NXOJ6MI58F_20231114_075544_398_0_aplogcat.csv with completion 8/65.\n",
      "Merging EVARTNVT93MUVF38V3WT_20231114_073811_784_22_aplogcat.csv with completion 9/65.\n",
      "Merging EVARTHYY3PF0VFW4FSH1_20231114_073015_893_16_aplogcat.csv with completion 10/65.\n",
      "Merging EVARTUFNWR4VSEVY4JGJ_20231114_080753_189_6_kernellog.csv with completion 11/65.\n",
      "Merging EVARTVHVD8JOLKYJ331L_20231114_080957_695_9_aplogcat.csv with completion 12/65.\n",
      "Merging EVARTWWD3384IDXPU5DW_20231114_081156_091_8_kernellog.csv with completion 13/65.\n",
      "Merging EVARTSIE97UEDU4YIKQ8_20231114_080328_490_5_aplogcat.csv with completion 14/65.\n",
      "Merging EVARTLTBNJL7AK9RUGSI_20231114_073514_947_16_kernellog.csv with completion 15/65.\n",
      "Merging EVARTAKCHUTDZBJAWAN3_20231114_070550_852_2_aplogcat.csv with completion 16/65.\n",
      "Merging EVARTNQNXCXKN9MCQUKV_20231114_073716_358_17_kernellog.csv with completion 17/65.\n",
      "Merging EVARU09GAZ5LE0LKEY2W_20231114_081957_494_15_aplogcat.csv with completion 18/65.\n",
      "Merging EVARTB57S6HGMNKGZLVP_20231114_070759_881_3_aplogcat.csv with completion 19/65.\n",
      "Merging EVARTZGMAMEYXSIJJIDF_20231114_081801_583_11_kernellog.csv with completion 20/65.\n",
      "Merging EVARTRZVV5G83J2JNMP7_20231114_080148_383_3_kernellog.csv with completion 21/65.\n",
      "Merging EVARTD3XNMK7T9TXQOW7_20231114_072249_876_11_aplogcat.csv with completion 22/65.\n",
      "Merging EVARTJ9KKO8RH39HN80L_20231114_073135_923_17_aplogcat.csv with completion 23/65.\n"
     ]
    },
    {
     "name": "stdout",
     "output_type": "stream",
     "text": [
      "Merging EVARTPKCRZVTJORPL2S2_20231114_074119_654_19_kernellog.csv with completion 24/65.\n",
      "Merging EVARTFUIUARZDSGLPEFP_20231114_072855_923_15_aplogcat.csv with completion 25/65.\n",
      "Merging EVARTMHIH9IIZK5TOD09_20231114_073651_850_21_aplogcat.csv with completion 26/65.\n",
      "Merging EVARTOIW8U8NF01YWFID_20231114_073929_983_23_aplogcat.csv with completion 27/65.\n",
      "Merging EVARTO5FXUDK20TBG7AM_20231114_073917_755_18_kernellog.csv with completion 28/65.\n",
      "Merging EVARTEJJBAAE4ZRD1HX0_20231114_072609_024_13_aplogcat.csv with completion 29/65.\n",
      "Merging EVARTDC5TFQ5PHACXLL3_20231114_072304_628_10_kernellog.csv with completion 30/65.\n",
      "Merging EVARTTRWK1B7WYBWVIZT_20231114_080551_683_5_kernellog.csv with completion 31/65.\n",
      "Merging EVARTASY4239MC2NE4YP_20231114_070652_528_2_kernellog.csv with completion 32/65.\n",
      "Merging EVARTCQBKAF58J9F3VH6_20231114_072103_026_9_kernellog.csv with completion 33/65.\n",
      "Merging EVARTY62PVHV6G8VGXJT_20231114_081559_590_10_kernellog.csv with completion 34/65.\n",
      "Merging EVARTFBNOD262QGNMNQZ_20231114_072707_622_12_kernellog.csv with completion 35/65.\n",
      "Merging EVARTBV0VHLKVD0ITUVW_20231114_070949_850_4_aplogcat.csv with completion 36/65.\n",
      "Merging EVARTHR233LPXP6ION6R_20231114_072909_128_13_kernellog.csv with completion 37/65.\n",
      "Merging EVART9QP13TBR20KEAA7_20231114_070249_081_0_kernellog.csv with completion 38/65.\n",
      "Merging EVARTX1KZTWBRIWEQR5X_20231114_081317_452_11_aplogcat.csv with completion 39/65.\n",
      "Merging EVARTTEZFGPHTWISQCEC_20231114_080350_089_4_kernellog.csv with completion 40/65.\n",
      "Merging EVARTR8PRGHUQFOQVXT4_20231114_075828_412_2_aplogcat.csv with completion 41/65.\n",
      "Merging EVARTA7G8FZR2B5NL4GW_20231114_070451_122_1_kernellog.csv with completion 42/65.\n",
      "Merging EVARTFOJK1FVXCKTH417_20231114_072725_925_14_aplogcat.csv with completion 43/65.\n",
      "Merging EVARTTK5NLRQX2GRSZ44_20231114_080508_423_6_aplogcat.csv with completion 44/65.\n",
      "Merging EVARTR3JTNA6NAW5SY6T_20231114_075745_583_1_kernellog.csv with completion 45/65.\n",
      "Merging EVARTQ3QMHW65HGMNBJ1_20231114_075708_516_1_aplogcat.csv with completion 46/65.\n",
      "Merging EVARU082VUDGSNKN90T0_20231114_081817_453_14_aplogcat.csv with completion 47/65.\n",
      "Merging EVARTV0HDZ8PLA7ZJXOX_20231114_080954_796_7_kernellog.csv with completion 48/65.\n",
      "Merging EVARTE2DARDLOAPJQZL3_20231114_072506_224_11_kernellog.csv with completion 49/65.\n",
      "Merging EVARTL8NYTWYZ4CO414G_20231114_073411_848_19_aplogcat.csv with completion 50/65.\n",
      "Merging EVARTPUKWDYKFU8HFL2L_20231114_075544_397_0_kernellog.csv with completion 51/65.\n",
      "Merging EVARTL18NRGM20ZEIJR1_20231114_073312_447_15_kernellog.csv with completion 52/65.\n",
      "Merging EVART9VW1FWGH80TC8NC_20231114_070400_928_1_aplogcat.csv with completion 53/65.\n",
      "Merging EVARTXAUVSYCEU4S8P9C_20231114_081358_086_9_kernellog.csv with completion 54/65.\n",
      "Merging EVARTMCA7B6YLB7TVMHA_20231114_073531_847_20_aplogcat.csv with completion 55/65.\n",
      "Merging EVART8R8RJ8A4TQ9RRVW_20231114_070249_081_0_aplogcat.csv with completion 56/65.\n",
      "Merging EVARTPP09MRX3VTYICSH_20231114_074206_850_25_aplogcat.csv with completion 57/65.\n",
      "Merging EVARTSH6J43QS1R0XWPN_20231114_080148_994_4_aplogcat.csv with completion 58/65.\n",
      "Merging EVARTRGECXC2ZJR9P98H_20231114_075947_090_2_kernellog.csv with completion 59/65.\n",
      "Merging EVARTBK4KVRGPV33DZQU_20231114_070853_731_3_kernellog.csv with completion 60/65.\n",
      "Merging EVARTVI95LXOWPY7X8LJ_20231114_081137_485_10_aplogcat.csv with completion 61/65.\n",
      "Merging EVARTZ3CZIAKYVNP3Q1Q_20231114_081637_506_13_aplogcat.csv with completion 62/65.\n",
      "Merging EVARTJAIVVE90JL0RCMW_20231114_073254_863_18_aplogcat.csv with completion 63/65.\n",
      "Merging EVARTIN0DS52E6TIAM2E_20231114_073110_627_14_kernellog.csv with completion 64/65.\n",
      "Merging EVARTOKJXD86UGKRV6L5_20231114_074049_807_24_aplogcat.csv with completion 65/65.\n",
      "Merging compeleted.\n"
     ]
    }
   ],
   "source": [
    "extract_zst_files(log_path, \"logcat\")\n",
    "extract_zst_files(log_path, \"kernel\")\n",
    "all_log = merge_log_csv_files(log_path)"
   ]
  },
  {
   "cell_type": "code",
   "execution_count": 8,
   "id": "0357bad3",
   "metadata": {},
   "outputs": [
    {
     "data": {
      "text/plain": [
       "6952302"
      ]
     },
     "execution_count": 8,
     "metadata": {},
     "output_type": "execute_result"
    }
   ],
   "source": [
    "all_log[timestamp].duplicated().sum()"
   ]
  },
  {
   "cell_type": "code",
   "execution_count": 6,
   "id": "14e615fd",
   "metadata": {},
   "outputs": [
    {
     "data": {
      "text/plain": [
       "Index(['date', 'timestamp', 'cpu', 'appid', 'ctxid', 'level', 'payload', '7',\n",
       "       '8', '9', '10', '11', '12', '13'],\n",
       "      dtype='object')"
      ]
     },
     "execution_count": 6,
     "metadata": {},
     "output_type": "execute_result"
    }
   ],
   "source": [
    "all_log.columns"
   ]
  },
  {
   "cell_type": "code",
   "execution_count": 7,
   "id": "08afd2d4",
   "metadata": {},
   "outputs": [],
   "source": [
    "all_log.drop_duplicates(subset=[timestamp, appid, ctxid, payload], inplace=True)"
   ]
  },
  {
   "cell_type": "code",
   "execution_count": 9,
   "id": "04d9afdf",
   "metadata": {},
   "outputs": [],
   "source": [
    "output_file = os.path.join(log_path, \"all_log.csv\")\n",
    "all_log.to_csv(output_file, encoding = \"ISO-8859-1\", index=None)"
   ]
  },
  {
   "cell_type": "code",
   "execution_count": null,
   "id": "4b63f409",
   "metadata": {},
   "outputs": [],
   "source": [
    "kernel_file = os.path.join(log_path, \"kernel_log.csv\")\n",
    "all_log.to_csv(kernel_file, encoding = \"ISO-8859-1\", index=None)"
   ]
  },
  {
   "cell_type": "code",
   "execution_count": null,
   "id": "88b28dd7",
   "metadata": {},
   "outputs": [],
   "source": []
  },
  {
   "cell_type": "code",
   "execution_count": null,
   "id": "55efcea7",
   "metadata": {},
   "outputs": [],
   "source": [
    "all_log[all_log[timestamp] < \"08:00:00\"].to_csv(output_file, encoding = \"ISO-8859-1\", index=None)"
   ]
  },
  {
   "cell_type": "code",
   "execution_count": null,
   "id": "64512508",
   "metadata": {},
   "outputs": [],
   "source": [
    "all_log[(all_log[appid] == 2612) & (all_log[timestamp] < \"07:50:00\")]"
   ]
  },
  {
   "cell_type": "code",
   "execution_count": null,
   "id": "c61f31e3",
   "metadata": {},
   "outputs": [],
   "source": [
    "all_log[payload]= all_log[payload].astype(str)"
   ]
  },
  {
   "cell_type": "code",
   "execution_count": null,
   "id": "33bba50d",
   "metadata": {},
   "outputs": [],
   "source": [
    "all_log.loc[(all_log[payload].str.contains(\"atrace: init_trace\")) & \n",
    "            (all_log[timestamp] < \"07:50:00\"), appid].unique()"
   ]
  },
  {
   "cell_type": "code",
   "execution_count": null,
   "id": "c5804db5",
   "metadata": {},
   "outputs": [],
   "source": [
    "all_log[appid].unique()"
   ]
  },
  {
   "cell_type": "code",
   "execution_count": null,
   "id": "de7e8dfc",
   "metadata": {},
   "outputs": [],
   "source": [
    "all_log[(all_log[appid] == 2612) & \n",
    "        (all_log[timestamp] < \"07:50:00\")\n",
    "       ].to_csv(os.path.join(log_path, \"appid_2612.csv\"), encoding = \"ISO-8859-1\", index=None)"
   ]
  },
  {
   "cell_type": "code",
   "execution_count": null,
   "id": "594f06a4",
   "metadata": {},
   "outputs": [],
   "source": []
  }
 ],
 "metadata": {
  "kernelspec": {
   "display_name": "Python 3 (ipykernel)",
   "language": "python",
   "name": "python3"
  },
  "language_info": {
   "codemirror_mode": {
    "name": "ipython",
    "version": 3
   },
   "file_extension": ".py",
   "mimetype": "text/x-python",
   "name": "python",
   "nbconvert_exporter": "python",
   "pygments_lexer": "ipython3",
   "version": "3.9.7"
  }
 },
 "nbformat": 4,
 "nbformat_minor": 5
}
