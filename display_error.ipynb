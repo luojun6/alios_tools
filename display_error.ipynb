{
 "cells": [
  {
   "cell_type": "code",
   "execution_count": 1,
   "id": "c0b43d31",
   "metadata": {},
   "outputs": [
    {
     "name": "stderr",
     "output_type": "stream",
     "text": [
      "/home/lawjune/anaconda3/lib/python3.9/site-packages/pandas/core/computation/expressions.py:21: UserWarning: Pandas requires version '2.8.0' or newer of 'numexpr' (version '2.7.3' currently installed).\n",
      "  from pandas.core.computation.check import NUMEXPR_INSTALLED\n",
      "/home/lawjune/anaconda3/lib/python3.9/site-packages/pandas/core/arrays/masked.py:62: UserWarning: Pandas requires version '1.3.4' or newer of 'bottleneck' (version '1.3.2' currently installed).\n",
      "  from pandas.core import (\n"
     ]
    }
   ],
   "source": [
    "import os\n",
    "from explore_yuntool_logs import *"
   ]
  },
  {
   "cell_type": "code",
   "execution_count": 2,
   "id": "04543856",
   "metadata": {},
   "outputs": [],
   "source": [
    "yfbench_log_path = os.path.join(current_dir, r\"logs/display_error/yfve_bench\")"
   ]
  },
  {
   "cell_type": "code",
   "execution_count": 4,
   "id": "be6fb57b",
   "metadata": {},
   "outputs": [
    {
     "name": "stdout",
     "output_type": "stream",
     "text": [
      "Found 2 txt.zst files.\n",
      "Extracting 20231113_145135_733_0_aplogcat.txt.zst with completion 1/2.\n",
      "Note: 20231113_145135_733_0_aplogcat.txt.zst was empty. Skipping.\n",
      "Extracting 20231113_145359_939_1_aplogcat.txt.zst with completion 2/2.\n",
      "Extraction completed.\n",
      "Found 0 txt.zst files.\n",
      "Extraction completed.\n",
      "Found 1 txt.gz files.\n",
      "Merging 20231113_145359_939_1_aplogcat.csv with completion 1/1.\n",
      "Merging compeleted.\n"
     ]
    }
   ],
   "source": [
    "extract_zst_files(yfbench_log_path, \"logcat\")\n",
    "extract_zst_files(yfbench_log_path, \"kernel\")\n",
    "yfbench_all_log = merge_log_csv_files(yfbench_log_path)"
   ]
  },
  {
   "cell_type": "code",
   "execution_count": 6,
   "id": "109cdae9",
   "metadata": {},
   "outputs": [],
   "source": [
    "yfbench_all_log.to_csv(r\"./logs/display_error/yfve_bench/all_log.log\", encoding = \"ISO-8859-1\", index=None)"
   ]
  },
  {
   "cell_type": "code",
   "execution_count": null,
   "id": "b2a74b02",
   "metadata": {},
   "outputs": [],
   "source": []
  },
  {
   "cell_type": "code",
   "execution_count": 7,
   "id": "ccff14ab",
   "metadata": {},
   "outputs": [],
   "source": [
    "log_path = os.path.join(current_dir, r\"logs/display_error\")"
   ]
  },
  {
   "cell_type": "code",
   "execution_count": 8,
   "id": "28fc09d4",
   "metadata": {},
   "outputs": [
    {
     "name": "stdout",
     "output_type": "stream",
     "text": [
      "Found 8 txt.zst files.\n",
      "Extracting 20231103_163918_055_0_aplogcat.txt.zst with completion 1/8.\n",
      "Extracting 20231103_172644_948_1_aplogcat.txt.zst with completion 2/8.\n",
      "Extracting 20231103_164121_549_1_aplogcat.txt.zst with completion 3/8.\n",
      "Extracting 20231103_172844_437_2_aplogcat.txt.zst with completion 4/8.\n",
      "Extracting 20231103_164321_551_2_aplogcat.txt.zst with completion 5/8.\n",
      "Extracting 20231103_172438_571_0_aplogcat.txt.zst with completion 6/8.\n",
      "Extracting 20231113_145135_733_0_aplogcat.txt.zst with completion 7/8.\n",
      "Note: 20231113_145135_733_0_aplogcat.txt.zst was empty. Skipping.\n",
      "Extracting 20231113_145359_939_1_aplogcat.txt.zst with completion 8/8.\n",
      "Extraction completed.\n",
      "Found 7 txt.zst files.\n",
      "Extracting 20231103_164118_695_1_kernellog.txt.zst with completion 1/7.\n",
      "Extracting 20231103_163918_056_0_kernellog.txt.zst with completion 2/7.\n",
      "Extracting 20231103_172638_870_1_kernellog.txt.zst with completion 3/7.\n",
      "Extracting 20231103_164318_843_2_kernellog.txt.zst with completion 4/7.\n",
      "Extracting 20231103_173039_311_3_kernellog.txt.zst with completion 5/7.\n",
      "Extracting 20231103_172438_570_0_kernellog.txt.zst with completion 6/7.\n",
      "Extracting 20231103_172839_027_2_kernellog.txt.zst with completion 7/7.\n",
      "Extraction completed.\n",
      "Found 14 txt.gz files.\n",
      "Merging 20231103_173039_311_3_kernellog.csv with completion 1/14.\n",
      "Merging 20231103_164118_695_1_kernellog.csv with completion 2/14.\n",
      "Merging 20231103_172844_437_2_aplogcat.csv with completion 3/14.\n",
      "Merging 20231103_172644_948_1_aplogcat.csv with completion 4/14.\n",
      "Merging 20231103_164321_551_2_aplogcat.csv with completion 5/14.\n",
      "Merging 20231103_163918_056_0_kernellog.csv with completion 6/14.\n",
      "Merging 20231103_172438_570_0_kernellog.csv with completion 7/14.\n",
      "Merging 20231103_172638_870_1_kernellog.csv with completion 8/14.\n",
      "Merging 20231103_164318_843_2_kernellog.csv with completion 9/14.\n",
      "Merging 20231103_172839_027_2_kernellog.csv with completion 10/14.\n",
      "Merging 20231103_163918_055_0_aplogcat.csv with completion 11/14.\n",
      "Merging 20231103_164121_549_1_aplogcat.csv with completion 12/14.\n",
      "Merging 20231113_145359_939_1_aplogcat.csv with completion 13/14.\n",
      "Merging 20231103_172438_571_0_aplogcat.csv with completion 14/14.\n",
      "Merging compeleted.\n"
     ]
    }
   ],
   "source": [
    "extract_zst_files(log_path, \"logcat\")\n",
    "extract_zst_files(log_path, \"kernel\")\n",
    "all_log = merge_log_csv_files(log_path)"
   ]
  },
  {
   "cell_type": "code",
   "execution_count": 10,
   "id": "dff62acb",
   "metadata": {},
   "outputs": [],
   "source": [
    "all_log[(all_log[timestamp] > \"16:43:20\") & (all_log[timestamp] < \"16:43:30\")].to_csv(r\"./logs/display_error/shutdownnow.log\", encoding = \"ISO-8859-1\", index=None)"
   ]
  },
  {
   "cell_type": "code",
   "execution_count": null,
   "id": "4eada7ca",
   "metadata": {},
   "outputs": [],
   "source": [
    "all_log.to_csv(r\"./logs/display_error/all_log.log\", encoding = \"ISO-8859-1\", index=None)"
   ]
  },
  {
   "cell_type": "code",
   "execution_count": null,
   "id": "391b9209",
   "metadata": {},
   "outputs": [],
   "source": [
    "all_log[(all_log[appid] == 2804) | \n",
    "        (all_log[ctxid] == 2804)].to_csv(r\"./logs/display_error/appid_ctxid_2804.log\", encoding = \"ISO-8859-1\", index=None)"
   ]
  },
  {
   "cell_type": "code",
   "execution_count": null,
   "id": "cf4e335a",
   "metadata": {},
   "outputs": [],
   "source": []
  },
  {
   "cell_type": "code",
   "execution_count": null,
   "id": "0a1a8431",
   "metadata": {},
   "outputs": [],
   "source": [
    "normal_start_path = os.path.join(current_dir, r\"logs/normal_start\")"
   ]
  },
  {
   "cell_type": "code",
   "execution_count": null,
   "id": "b6957175",
   "metadata": {},
   "outputs": [],
   "source": [
    "extract_zst_files(normal_start_path, \"logcat\")\n",
    "extract_zst_files(normal_start_path, \"kernel\")\n",
    "normal_start_log = merge_log_csv_files(normal_start_path)"
   ]
  },
  {
   "cell_type": "code",
   "execution_count": null,
   "id": "6ac9ebb2",
   "metadata": {},
   "outputs": [],
   "source": []
  }
 ],
 "metadata": {
  "kernelspec": {
   "display_name": "Python 3 (ipykernel)",
   "language": "python",
   "name": "python3"
  },
  "language_info": {
   "codemirror_mode": {
    "name": "ipython",
    "version": 3
   },
   "file_extension": ".py",
   "mimetype": "text/x-python",
   "name": "python",
   "nbconvert_exporter": "python",
   "pygments_lexer": "ipython3",
   "version": "3.9.7"
  }
 },
 "nbformat": 4,
 "nbformat_minor": 5
}
