{
 "cells": [
  {
   "cell_type": "code",
   "execution_count": 1,
   "id": "7cc340cc",
   "metadata": {},
   "outputs": [
    {
     "name": "stderr",
     "output_type": "stream",
     "text": [
      "/home/lawjune/anaconda3/lib/python3.9/site-packages/pandas/core/computation/expressions.py:21: UserWarning: Pandas requires version '2.8.0' or newer of 'numexpr' (version '2.7.3' currently installed).\n",
      "  from pandas.core.computation.check import NUMEXPR_INSTALLED\n",
      "/home/lawjune/anaconda3/lib/python3.9/site-packages/pandas/core/arrays/masked.py:62: UserWarning: Pandas requires version '1.3.4' or newer of 'bottleneck' (version '1.3.2' currently installed).\n",
      "  from pandas.core import (\n"
     ]
    }
   ],
   "source": [
    "import os\n",
    "from explore_yuntool_logs import *"
   ]
  },
  {
   "cell_type": "code",
   "execution_count": 2,
   "id": "dfc20408",
   "metadata": {},
   "outputs": [],
   "source": [
    "log_path = os.path.join(current_dir, r\"logs/autonavi\")"
   ]
  },
  {
   "cell_type": "code",
   "execution_count": 3,
   "id": "b8c8c5c0",
   "metadata": {},
   "outputs": [
    {
     "name": "stdout",
     "output_type": "stream",
     "text": [
      "Found 19 txt.zst files.\n",
      "Extracting EV1MU7ZWRP6J07GGE09O_20231101_130925_743_1_aplogcat.txt.zst with completion 1/19.\n",
      "Extracting EV1MUF3M9OUF3873NBDQ_20231101_141132_649_42_aplogcat.txt.zst with completion 2/19.\n",
      "Extracting EV1MU873CDRE1DDL3LUU_20231101_131100_799_2_aplogcat.txt.zst with completion 3/19.\n",
      "Extracting EV1MUGY5WYOL4B45CAEB_20231101_141932_618_46_aplogcat.txt.zst with completion 4/19.\n",
      "Extracting EV1MUFZLI5PN7CYD225W_20231101_141532_621_44_aplogcat.txt.zst with completion 5/19.\n",
      "Extracting EV1MU91QLU3R8ZDF12V3_20231101_131209_842_3_aplogcat.txt.zst with completion 6/19.\n",
      "Extracting EV1MUCFEA7AB8DYF47P7_20231101_140545_661_37_aplogcat.txt.zst with completion 7/19.\n",
      "Extracting EV1MUEJ7RUQC2WOD5203_20231101_141006_805_41_aplogcat.txt.zst with completion 8/19.\n",
      "Extracting EV1MUASLM5G9WG8FUU2N_20231101_140223_877_34_aplogcat.txt.zst with completion 9/19.\n",
      "Extracting EV1MUA7VFAW73WOS4G8K_20231101_140106_761_33_aplogcat.txt.zst with completion 10/19.\n",
      "Extracting EV1MUGI11HXON7WUZT2U_20231101_141732_616_45_aplogcat.txt.zst with completion 11/19.\n",
      "Extracting EV1MUBVGRNZEQ4SRMLE0_20231101_140345_873_35_aplogcat.txt.zst with completion 12/19.\n",
      "Extracting EV1MUBK65BKBKLKDJ82V_20231101_140444_573_36_aplogcat.txt.zst with completion 13/19.\n",
      "Extracting EV1MUDH6YFQL38YNMFYH_20231101_140847_686_40_aplogcat.txt.zst with completion 14/19.\n",
      "Extracting EV1MU9MCDOA2Q8U005U9_20231101_131354_045_4_aplogcat.txt.zst with completion 15/19.\n",
      "Extracting EV1MU79SZTR8WTV31O4M_20231101_130724_140_0_aplogcat.txt.zst with completion 16/19.\n",
      "Extracting EV1MUDGSP4II5ZQEHO63_20231101_140734_789_39_aplogcat.txt.zst with completion 17/19.\n",
      "Extracting EV1MUFJZ48BWVPE9OVVR_20231101_141332_688_43_aplogcat.txt.zst with completion 18/19.\n",
      "Extracting EV1MUCNKLWO13QZHCFQF_20231101_140642_860_38_aplogcat.txt.zst with completion 19/19.\n",
      "Extraction completed.\n",
      "Found 19 txt.gz files.\n",
      "Merging EV1MU79SZTR8WTV31O4M_20231101_130724_140_0_aplogcat.csv with completion 1/19.\n",
      "Merging EV1MUCNKLWO13QZHCFQF_20231101_140642_860_38_aplogcat.csv with completion 2/19.\n",
      "Merging EV1MUASLM5G9WG8FUU2N_20231101_140223_877_34_aplogcat.csv with completion 3/19.\n",
      "Merging EV1MU7ZWRP6J07GGE09O_20231101_130925_743_1_aplogcat.csv with completion 4/19.\n",
      "Merging EV1MUGI11HXON7WUZT2U_20231101_141732_616_45_aplogcat.csv with completion 5/19.\n",
      "Merging EV1MU873CDRE1DDL3LUU_20231101_131100_799_2_aplogcat.csv with completion 6/19.\n",
      "Merging EV1MUEJ7RUQC2WOD5203_20231101_141006_805_41_aplogcat.csv with completion 7/19.\n",
      "Merging EV1MUA7VFAW73WOS4G8K_20231101_140106_761_33_aplogcat.csv with completion 8/19.\n",
      "Merging EV1MUGY5WYOL4B45CAEB_20231101_141932_618_46_aplogcat.csv with completion 9/19.\n",
      "Merging EV1MUBVGRNZEQ4SRMLE0_20231101_140345_873_35_aplogcat.csv with completion 10/19.\n",
      "Merging EV1MUFJZ48BWVPE9OVVR_20231101_141332_688_43_aplogcat.csv with completion 11/19.\n",
      "Merging EV1MUF3M9OUF3873NBDQ_20231101_141132_649_42_aplogcat.csv with completion 12/19.\n",
      "Merging EV1MUFZLI5PN7CYD225W_20231101_141532_621_44_aplogcat.csv with completion 13/19.\n",
      "Merging EV1MUBK65BKBKLKDJ82V_20231101_140444_573_36_aplogcat.csv with completion 14/19.\n",
      "Merging EV1MU9MCDOA2Q8U005U9_20231101_131354_045_4_aplogcat.csv with completion 15/19.\n",
      "Merging EV1MUDH6YFQL38YNMFYH_20231101_140847_686_40_aplogcat.csv with completion 16/19.\n",
      "Merging EV1MU91QLU3R8ZDF12V3_20231101_131209_842_3_aplogcat.csv with completion 17/19.\n",
      "Merging EV1MUDGSP4II5ZQEHO63_20231101_140734_789_39_aplogcat.csv with completion 18/19.\n",
      "Merging EV1MUCFEA7AB8DYF47P7_20231101_140545_661_37_aplogcat.csv with completion 19/19.\n",
      "Merging compeleted.\n"
     ]
    }
   ],
   "source": [
    "extract_zst_files(log_path, \"logcat\")\n",
    "# extract_zst_files(log_path, \"kernel\")\n",
    "all_log = merge_log_csv_files(log_path)"
   ]
  },
  {
   "cell_type": "code",
   "execution_count": 5,
   "id": "a4c9f6fc",
   "metadata": {},
   "outputs": [],
   "source": [
    "all_log.to_csv(r\"./logs/autonavi/ap.log\", encoding = \"ISO-8859-1\", index=None)"
   ]
  },
  {
   "cell_type": "code",
   "execution_count": 18,
   "id": "bc68cd9b",
   "metadata": {},
   "outputs": [],
   "source": [
    "app_id = [2354, 1342, 1646, 2635, 2641, 1357, 2859, 3115, 3297, 2289, 3290,\n",
    "       3259, 3265, 3512, 3784, 2884, 4019, 4514, 4400, 2457, 4180, 4394,\n",
    "       3770, 5638, 3309, 5774, 5901, 4501, 1639, 2215, 2468, 1646, 2354, 2289, 2457, 2382, 2613, 2635, 2605,\n",
    "       2625, 2604, 2703, 1649, 2829, 2701, 2859, 3115, 3098, 3109, 2380,\n",
    "       3259, 3265, 3309, 3297, 3271, 3172, 3290, 3390, 3511, 3383, 3512,\n",
    "       3874, 2334, 2541, 3784, 4180, 3661, 2884, 3756, 4019, 4394, 4384,\n",
    "       4290, 4457, 4463, 4437, 4607, 3770, 4385, 4501, 4688, 5070, 1341,\n",
    "       4905, 2614, 5638, 5774, 5808, 5814, 5914, 5901, 5923, 5904, 3872,\n",
    "       4400, 5585, 6066, 6944]\n",
    "ctx_id = [2354,  1342,  1646,  2635,  2847,  2273,  2859,  3115,  3297,\n",
    "        2289,  2439,  3290,  3259,  3265,  3512,  4144,  3784,  4238,\n",
    "        4324,  4019,  4318,  4514,  4695,  4824,  4835,  2525,  4180,\n",
    "        3879,  3877,  4836,  5013,  5009,  5020,  3965,  4827,  3966,\n",
    "        3878,  5035,  4410,  5111,  4154,  5638,  5664,  5687,  5697,\n",
    "        4555,  3309,  3408,  2157,  5774,  5901,  2766,  3597,  6175,\n",
    "        3968,  6403,  6464,  3967,  3970,  3882,  4872,  4928,  5021,\n",
    "        5015,  3972,  4927,  5738,  3477,  3971,  6557,  2474,  6565,\n",
    "        3964,  2337,  3969,  3973,  5415,  5722,  6687,  3895,  5707,\n",
    "        4145,  3581,  5594,  3188,  6704,  6770,  5034,  6851,  4959,\n",
    "        6962,  7083,  7131,  7237,  7309, 14385, 14420, 14571, 14702,\n",
    "       14827, 14889,  3204, 14947, 14963, 15030,  6452, 15145, 15188,\n",
    "        4337, 15284, 15330, 15435, 15545, 15632, 15648, 15693, 15711,\n",
    "       15738, 15764, 15820, 15859, 15879, 15903, 15933, 15963, 15995,\n",
    "       16145, 1639,  2215,  2517,  2468,  2366,  2354,  2327,  2289,  2457,\n",
    "        2382,  2252,  2251,  2613,  2474,  2509,  2635,  2813,  2863,\n",
    "        2697,  2703,  2269,  2928,  2829,  3089,  3065,  2859,  3115,\n",
    "        3188,  3204,  3098,  3238,  2539,  2380,  3259,  3265,  3364,\n",
    "        3309,  3237,  3401,  3444,  3271,  3477,  3249,  3247,  3480,\n",
    "        3390,  3545,  3290,  3456,  3511,  3579,  3297,  2868,  3786,\n",
    "        3785,  3690,  3829,  3875,  3832,  3907,  3874,  4121,  4045,\n",
    "        3961,  4144,  3787,  2568,  2420,  2421,  2485,  4146,  4176,\n",
    "        4180,  4119,  4175,  4135,  4178,  4238,  3970,  4277,  4128,\n",
    "        3355,  3661,  4302,  4019,  4410,  4384,  3174,  2484,  4290,\n",
    "        4457,  2525,  4463,  4734,  4607,  4154,  4716,  4767,  2556,\n",
    "        4872,  4501,  3967,  4914,  4137,  4835,  4358,  4927,  3966,\n",
    "        4892,  4967,  5013,  5009,  3964,  4945,  3879,  4824,  5035,\n",
    "        3883,  5083,  4337,  5111,  5126,  3968,  3969,  1341,  4928,\n",
    "        3531,  4336,  4319,  5415,  5047,  4729,  4726,  3965,  4727,\n",
    "        5594,  4993,  4992,  4994,  4995,  4991,  2731,  3916,  5617,\n",
    "        3088,  3972,  3973,  5638,  5664,  2439,  5687,  5697,  5709,\n",
    "        5714,  5722,  5738,  5774,  5794,  5808,  5833,  5838,  5814,\n",
    "        6017,  6021,  5901,  6064,  5904,  6098,  5923,  3872,  2440,\n",
    "        3597,  6391,  4674,  3509,  3962,  2476,  2477,  2654,  2692,\n",
    "        2715,  2744,  4318,  5021,  3882,  4145,  2644,  4724,  3971,\n",
    "        5707,  4836,  3963,  2778,  4959,  7254,  4676,  4760,  3876,\n",
    "        5123,  2933,  4657, 15585, 16066,  6944]"
   ]
  },
  {
   "cell_type": "code",
   "execution_count": 22,
   "id": "ecb5ce75",
   "metadata": {},
   "outputs": [],
   "source": [
    "navi_log = all_log[all_log[appid].isin(app_id) & all_log[ctxid].isin(ctx_id)].copy()"
   ]
  },
  {
   "cell_type": "code",
   "execution_count": 21,
   "id": "f4b329a5",
   "metadata": {},
   "outputs": [
    {
     "data": {
      "text/plain": [
       "3745977"
      ]
     },
     "execution_count": 21,
     "metadata": {},
     "output_type": "execute_result"
    }
   ],
   "source": [
    "len(all_log)"
   ]
  },
  {
   "cell_type": "code",
   "execution_count": 17,
   "id": "ead1e227",
   "metadata": {},
   "outputs": [
    {
     "data": {
      "text/plain": [
       "array([1639, 2215, 2468, 1646, 2354, 2289, 2457, 2382, 2613, 2635, 2605,\n",
       "       2625, 2604, 2703, 1649, 2829, 2701, 2859, 3115, 3098, 3109, 2380,\n",
       "       3259, 3265, 3309, 3297, 3271, 3172, 3290, 3390, 3511, 3383, 3512,\n",
       "       3874, 2334, 2541, 3784, 4180, 3661, 2884, 3756, 4019, 4394, 4384,\n",
       "       4290, 4457, 4463, 4437, 4607, 3770, 4385, 4501, 4688, 5070, 1341,\n",
       "       4905, 2614, 5638, 5774, 5808, 5814, 5914, 5901, 5923, 5904, 3872,\n",
       "       4400, 5585, 6066, 6944])"
      ]
     },
     "execution_count": 17,
     "metadata": {},
     "output_type": "execute_result"
    }
   ],
   "source": [
    "all_log.loc[all_log[payload].str.lower().str.contains(\"map\"), appid].unique()"
   ]
  },
  {
   "cell_type": "code",
   "execution_count": 23,
   "id": "4671a81a",
   "metadata": {},
   "outputs": [],
   "source": [
    "navi_log.to_csv(r\"./logs/autonavi/navi.log\", encoding = \"ISO-8859-1\", index=None)"
   ]
  },
  {
   "cell_type": "code",
   "execution_count": 26,
   "id": "545f04e0",
   "metadata": {},
   "outputs": [
    {
     "data": {
      "text/plain": [
       "46945     ZebraLog: 2023/11/01 13:09:58:018|03259|03877|...\n",
       "47076     ZebraLog: 2023/11/01 13:09:58:048|03259|03877|...\n",
       "47075     ZebraLog: 2023/11/01 13:09:58:048|03259|03877|...\n",
       "47276     ZebraLog: 2023/11/01 13:09:58:059|03259|03877|...\n",
       "47529     ZebraLog: 2023/11/01 13:11:10:939|03259|03877|...\n",
       "                                ...                        \n",
       "77782     ZebraLog: 2023/11/01 14:09:16:259|03259|03877|...\n",
       "235884    ZebraLog: 2023/11/01 14:10:06:445|03259|03877|...\n",
       "235926    ZebraLog: 2023/11/01 14:10:06:447|03259|03877|...\n",
       "235927    ZebraLog: 2023/11/01 14:10:06:447|03259|03877|...\n",
       "236081    ZebraLog: 2023/11/01 14:10:06:453|03259|03877|...\n",
       "Name: payload, Length: 88, dtype: object"
      ]
     },
     "execution_count": 26,
     "metadata": {},
     "output_type": "execute_result"
    }
   ],
   "source": [
    "navi_log.loc[navi_log[payload].str.contains(\"OnNewRoute\"), payload]"
   ]
  },
  {
   "cell_type": "code",
   "execution_count": null,
   "id": "11674650",
   "metadata": {},
   "outputs": [],
   "source": []
  }
 ],
 "metadata": {
  "kernelspec": {
   "display_name": "Python 3 (ipykernel)",
   "language": "python",
   "name": "python3"
  },
  "language_info": {
   "codemirror_mode": {
    "name": "ipython",
    "version": 3
   },
   "file_extension": ".py",
   "mimetype": "text/x-python",
   "name": "python",
   "nbconvert_exporter": "python",
   "pygments_lexer": "ipython3",
   "version": "3.9.7"
  }
 },
 "nbformat": 4,
 "nbformat_minor": 5
}
