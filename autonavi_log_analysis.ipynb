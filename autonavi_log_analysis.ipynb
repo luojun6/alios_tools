{
 "cells": [
  {
   "cell_type": "code",
   "execution_count": 1,
   "id": "44c818d0",
   "metadata": {},
   "outputs": [],
   "source": [
    "import os"
   ]
  },
  {
   "cell_type": "code",
   "execution_count": 2,
   "id": "b281a6ed",
   "metadata": {},
   "outputs": [
    {
     "name": "stderr",
     "output_type": "stream",
     "text": [
      "/home/lawjune/anaconda3/lib/python3.9/site-packages/pandas/core/computation/expressions.py:21: UserWarning: Pandas requires version '2.8.0' or newer of 'numexpr' (version '2.7.3' currently installed).\n",
      "  from pandas.core.computation.check import NUMEXPR_INSTALLED\n",
      "/home/lawjune/anaconda3/lib/python3.9/site-packages/pandas/core/arrays/masked.py:62: UserWarning: Pandas requires version '1.3.4' or newer of 'bottleneck' (version '1.3.2' currently installed).\n",
      "  from pandas.core import (\n"
     ]
    }
   ],
   "source": [
    "from explore_yuntool_logs import *"
   ]
  },
  {
   "cell_type": "code",
   "execution_count": 3,
   "id": "5f146a2a",
   "metadata": {},
   "outputs": [
    {
     "data": {
      "text/plain": [
       "'/home/lawjune/alios_tools'"
      ]
     },
     "execution_count": 3,
     "metadata": {},
     "output_type": "execute_result"
    }
   ],
   "source": [
    "current_dir"
   ]
  },
  {
   "cell_type": "code",
   "execution_count": 4,
   "id": "0989a42d",
   "metadata": {},
   "outputs": [],
   "source": [
    "navi_log_path = os.path.join(current_dir, r\"/logs/85849739_LSJWM6096PZ830860_1698820320515\")\n",
    "banma_log_path = os.path.join(current_dir, r\"logs/85849742_LSJWM6096PZ830860_1698820380548\")"
   ]
  },
  {
   "cell_type": "code",
   "execution_count": 5,
   "id": "3fbf28e8",
   "metadata": {},
   "outputs": [
    {
     "name": "stdout",
     "output_type": "stream",
     "text": [
      "Found 19 txt.zst files.\n",
      "Extracting EV1MU7ZWRP6J07GGE09O_20231101_130925_743_1_aplogcat.txt.zst with completion 1/19.\n",
      "Extracting EV1MUF3M9OUF3873NBDQ_20231101_141132_649_42_aplogcat.txt.zst with completion 2/19.\n",
      "Extracting EV1MU873CDRE1DDL3LUU_20231101_131100_799_2_aplogcat.txt.zst with completion 3/19.\n",
      "Extracting EV1MUGY5WYOL4B45CAEB_20231101_141932_618_46_aplogcat.txt.zst with completion 4/19.\n",
      "Extracting EV1MUFZLI5PN7CYD225W_20231101_141532_621_44_aplogcat.txt.zst with completion 5/19.\n",
      "Extracting EV1MU91QLU3R8ZDF12V3_20231101_131209_842_3_aplogcat.txt.zst with completion 6/19.\n",
      "Extracting EV1MUCFEA7AB8DYF47P7_20231101_140545_661_37_aplogcat.txt.zst with completion 7/19.\n",
      "Extracting EV1MUEJ7RUQC2WOD5203_20231101_141006_805_41_aplogcat.txt.zst with completion 8/19.\n",
      "Extracting EV1MUASLM5G9WG8FUU2N_20231101_140223_877_34_aplogcat.txt.zst with completion 9/19.\n",
      "Extracting EV1MUA7VFAW73WOS4G8K_20231101_140106_761_33_aplogcat.txt.zst with completion 10/19.\n",
      "Extracting EV1MUGI11HXON7WUZT2U_20231101_141732_616_45_aplogcat.txt.zst with completion 11/19.\n",
      "Extracting EV1MUBVGRNZEQ4SRMLE0_20231101_140345_873_35_aplogcat.txt.zst with completion 12/19.\n",
      "Extracting EV1MUBK65BKBKLKDJ82V_20231101_140444_573_36_aplogcat.txt.zst with completion 13/19.\n",
      "Extracting EV1MUDH6YFQL38YNMFYH_20231101_140847_686_40_aplogcat.txt.zst with completion 14/19.\n",
      "Extracting EV1MU9MCDOA2Q8U005U9_20231101_131354_045_4_aplogcat.txt.zst with completion 15/19.\n",
      "Extracting EV1MU79SZTR8WTV31O4M_20231101_130724_140_0_aplogcat.txt.zst with completion 16/19.\n",
      "Extracting EV1MUDGSP4II5ZQEHO63_20231101_140734_789_39_aplogcat.txt.zst with completion 17/19.\n",
      "Extracting EV1MUFJZ48BWVPE9OVVR_20231101_141332_688_43_aplogcat.txt.zst with completion 18/19.\n",
      "Extracting EV1MUCNKLWO13QZHCFQF_20231101_140642_860_38_aplogcat.txt.zst with completion 19/19.\n",
      "Extraction completed.\n",
      "Found 19 txt.gz files.\n",
      "Merging EV1MU79SZTR8WTV31O4M_20231101_130724_140_0_aplogcat.csv with completion 1/19.\n",
      "Merging EV1MUCNKLWO13QZHCFQF_20231101_140642_860_38_aplogcat.csv with completion 2/19.\n",
      "Merging EV1MUASLM5G9WG8FUU2N_20231101_140223_877_34_aplogcat.csv with completion 3/19.\n",
      "Merging EV1MU7ZWRP6J07GGE09O_20231101_130925_743_1_aplogcat.csv with completion 4/19.\n",
      "Merging EV1MUGI11HXON7WUZT2U_20231101_141732_616_45_aplogcat.csv with completion 5/19.\n",
      "Merging EV1MU873CDRE1DDL3LUU_20231101_131100_799_2_aplogcat.csv with completion 6/19.\n",
      "Merging EV1MUEJ7RUQC2WOD5203_20231101_141006_805_41_aplogcat.csv with completion 7/19.\n",
      "Merging EV1MUA7VFAW73WOS4G8K_20231101_140106_761_33_aplogcat.csv with completion 8/19.\n",
      "Merging EV1MUGY5WYOL4B45CAEB_20231101_141932_618_46_aplogcat.csv with completion 9/19.\n",
      "Merging EV1MUBVGRNZEQ4SRMLE0_20231101_140345_873_35_aplogcat.csv with completion 10/19.\n",
      "Merging EV1MUFJZ48BWVPE9OVVR_20231101_141332_688_43_aplogcat.csv with completion 11/19.\n",
      "Merging EV1MUF3M9OUF3873NBDQ_20231101_141132_649_42_aplogcat.csv with completion 12/19.\n",
      "Merging EV1MUFZLI5PN7CYD225W_20231101_141532_621_44_aplogcat.csv with completion 13/19.\n",
      "Merging EV1MUBK65BKBKLKDJ82V_20231101_140444_573_36_aplogcat.csv with completion 14/19.\n",
      "Merging EV1MU9MCDOA2Q8U005U9_20231101_131354_045_4_aplogcat.csv with completion 15/19.\n",
      "Merging EV1MUDH6YFQL38YNMFYH_20231101_140847_686_40_aplogcat.csv with completion 16/19.\n",
      "Merging EV1MU91QLU3R8ZDF12V3_20231101_131209_842_3_aplogcat.csv with completion 17/19.\n",
      "Merging EV1MUDGSP4II5ZQEHO63_20231101_140734_789_39_aplogcat.csv with completion 18/19.\n",
      "Merging EV1MUCFEA7AB8DYF47P7_20231101_140545_661_37_aplogcat.csv with completion 19/19.\n",
      "Merging compeleted.\n"
     ]
    }
   ],
   "source": [
    "# Extract autonavi logs\n",
    "extract_zst_files(banma_log_path, \"logcat\")\n",
    "logcat = merge_log_csv_files(banma_log_path)"
   ]
  },
  {
   "cell_type": "code",
   "execution_count": null,
   "id": "bf98fdbd",
   "metadata": {},
   "outputs": [],
   "source": []
  },
  {
   "cell_type": "code",
   "execution_count": 19,
   "id": "9d4522a0",
   "metadata": {},
   "outputs": [
    {
     "data": {
      "text/plain": [
       "array([2525, 5035, 4410, 3882, 3971, 3964])"
      ]
     },
     "execution_count": 19,
     "metadata": {},
     "output_type": "execute_result"
    }
   ],
   "source": [
    "logcat.loc[logcat[payload].str.lower().str.contains(\"autonavi\"), ctxid].unique()"
   ]
  },
  {
   "cell_type": "code",
   "execution_count": null,
   "id": "6e609f82",
   "metadata": {},
   "outputs": [],
   "source": [
    "appid_list = [2457, 3259, 4394]\n",
    "ctxid_list = []2525, 5035, 4410, 3882, 3971, 3964"
   ]
  },
  {
   "cell_type": "code",
   "execution_count": 16,
   "id": "711426d7",
   "metadata": {},
   "outputs": [
    {
     "data": {
      "text/html": [
       "<div>\n",
       "<style scoped>\n",
       "    .dataframe tbody tr th:only-of-type {\n",
       "        vertical-align: middle;\n",
       "    }\n",
       "\n",
       "    .dataframe tbody tr th {\n",
       "        vertical-align: top;\n",
       "    }\n",
       "\n",
       "    .dataframe thead th {\n",
       "        text-align: right;\n",
       "    }\n",
       "</style>\n",
       "<table border=\"1\" class=\"dataframe\">\n",
       "  <thead>\n",
       "    <tr style=\"text-align: right;\">\n",
       "      <th></th>\n",
       "      <th>timestamp</th>\n",
       "      <th>appid</th>\n",
       "      <th>ctxid</th>\n",
       "      <th>level</th>\n",
       "      <th>payload</th>\n",
       "    </tr>\n",
       "  </thead>\n",
       "  <tbody>\n",
       "    <tr>\n",
       "      <th>23303</th>\n",
       "      <td>13:07:27.176</td>\n",
       "      <td>3259</td>\n",
       "      <td>3259</td>\n",
       "      <td>I</td>\n",
       "      <td>TraceInfo-StartUp-Seed-L0: domain process fork...</td>\n",
       "    </tr>\n",
       "    <tr>\n",
       "      <th>23311</th>\n",
       "      <td>13:07:27.177</td>\n",
       "      <td>3259</td>\n",
       "      <td>3259</td>\n",
       "      <td>I</td>\n",
       "      <td>v8_inspector: unregister isolate 0x7f90d6d010</td>\n",
       "    </tr>\n",
       "    <tr>\n",
       "      <th>23312</th>\n",
       "      <td>13:07:27.178</td>\n",
       "      <td>3259</td>\n",
       "      <td>3259</td>\n",
       "      <td>I</td>\n",
       "      <td>v8_inspector: initialize v8-inspector in isola...</td>\n",
       "    </tr>\n",
       "    <tr>\n",
       "      <th>23313</th>\n",
       "      <td>13:07:27.178</td>\n",
       "      <td>3259</td>\n",
       "      <td>3259</td>\n",
       "      <td>E</td>\n",
       "      <td>node_log: Fail to uv_fs_event_start, err=-2:No...</td>\n",
       "    </tr>\n",
       "    <tr>\n",
       "      <th>23316</th>\n",
       "      <td>13:07:27.182</td>\n",
       "      <td>3259</td>\n",
       "      <td>3259</td>\n",
       "      <td>I</td>\n",
       "      <td>v8_inspector: register isolate 0x7f90d6d010</td>\n",
       "    </tr>\n",
       "    <tr>\n",
       "      <th>...</th>\n",
       "      <td>...</td>\n",
       "      <td>...</td>\n",
       "      <td>...</td>\n",
       "      <td>...</td>\n",
       "      <td>...</td>\n",
       "    </tr>\n",
       "    <tr>\n",
       "      <th>130299</th>\n",
       "      <td>14:21:32.565</td>\n",
       "      <td>3259</td>\n",
       "      <td>4827</td>\n",
       "      <td>I</td>\n",
       "      <td>ZebraLog: 2023/11/01 14:21:32:565|03259|04827|...</td>\n",
       "    </tr>\n",
       "    <tr>\n",
       "      <th>130300</th>\n",
       "      <td>14:21:32.565</td>\n",
       "      <td>3259</td>\n",
       "      <td>4827</td>\n",
       "      <td>I</td>\n",
       "      <td>ZebraLog: 2023/11/01 14:21:32:565|03259|04827|...</td>\n",
       "    </tr>\n",
       "    <tr>\n",
       "      <th>130297</th>\n",
       "      <td>14:21:32.565</td>\n",
       "      <td>3259</td>\n",
       "      <td>3970</td>\n",
       "      <td>I</td>\n",
       "      <td>ZebraLog: 2023/11/01 14:21:32:565|03259|03970|...</td>\n",
       "    </tr>\n",
       "    <tr>\n",
       "      <th>130330</th>\n",
       "      <td>14:21:32.594</td>\n",
       "      <td>3259</td>\n",
       "      <td>4144</td>\n",
       "      <td>I</td>\n",
       "      <td>ZebraLog: 2023/11/01 14:21:32:594|03259|04144|...</td>\n",
       "    </tr>\n",
       "    <tr>\n",
       "      <th>130331</th>\n",
       "      <td>14:21:32.594</td>\n",
       "      <td>3259</td>\n",
       "      <td>4144</td>\n",
       "      <td>I</td>\n",
       "      <td>ZebraLog: BMMapviewObserverImpl::OnCheckIngDat...</td>\n",
       "    </tr>\n",
       "  </tbody>\n",
       "</table>\n",
       "<p>935586 rows × 5 columns</p>\n",
       "</div>"
      ],
      "text/plain": [
       "           timestamp  appid  ctxid level  \\\n",
       "23303   13:07:27.176   3259   3259     I   \n",
       "23311   13:07:27.177   3259   3259     I   \n",
       "23312   13:07:27.178   3259   3259     I   \n",
       "23313   13:07:27.178   3259   3259     E   \n",
       "23316   13:07:27.182   3259   3259     I   \n",
       "...              ...    ...    ...   ...   \n",
       "130299  14:21:32.565   3259   4827     I   \n",
       "130300  14:21:32.565   3259   4827     I   \n",
       "130297  14:21:32.565   3259   3970     I   \n",
       "130330  14:21:32.594   3259   4144     I   \n",
       "130331  14:21:32.594   3259   4144     I   \n",
       "\n",
       "                                                  payload  \n",
       "23303   TraceInfo-StartUp-Seed-L0: domain process fork...  \n",
       "23311       v8_inspector: unregister isolate 0x7f90d6d010  \n",
       "23312   v8_inspector: initialize v8-inspector in isola...  \n",
       "23313   node_log: Fail to uv_fs_event_start, err=-2:No...  \n",
       "23316         v8_inspector: register isolate 0x7f90d6d010  \n",
       "...                                                   ...  \n",
       "130299  ZebraLog: 2023/11/01 14:21:32:565|03259|04827|...  \n",
       "130300  ZebraLog: 2023/11/01 14:21:32:565|03259|04827|...  \n",
       "130297  ZebraLog: 2023/11/01 14:21:32:565|03259|03970|...  \n",
       "130330  ZebraLog: 2023/11/01 14:21:32:594|03259|04144|...  \n",
       "130331  ZebraLog: BMMapviewObserverImpl::OnCheckIngDat...  \n",
       "\n",
       "[935586 rows x 5 columns]"
      ]
     },
     "execution_count": 16,
     "metadata": {},
     "output_type": "execute_result"
    }
   ],
   "source": [
    "logcat.loc[(logcat[appid].isin(appid_list)) | (logcat[ctxid].isin()), \n",
    "           \n",
    "           [timestamp, appid, ctxid, level, payload]]"
   ]
  },
  {
   "cell_type": "code",
   "execution_count": null,
   "id": "1790cf88",
   "metadata": {},
   "outputs": [],
   "source": []
  }
 ],
 "metadata": {
  "kernelspec": {
   "display_name": "Python 3 (ipykernel)",
   "language": "python",
   "name": "python3"
  },
  "language_info": {
   "codemirror_mode": {
    "name": "ipython",
    "version": 3
   },
   "file_extension": ".py",
   "mimetype": "text/x-python",
   "name": "python",
   "nbconvert_exporter": "python",
   "pygments_lexer": "ipython3",
   "version": "3.9.7"
  }
 },
 "nbformat": 4,
 "nbformat_minor": 5
}
