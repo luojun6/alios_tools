{
 "cells": [
  {
   "cell_type": "code",
   "execution_count": 1,
   "id": "9022f41a",
   "metadata": {},
   "outputs": [],
   "source": [
    "from file_mgmt import LocalFilesManager\n",
    "import os"
   ]
  },
  {
   "cell_type": "code",
   "execution_count": 2,
   "id": "4ca1be38",
   "metadata": {},
   "outputs": [],
   "source": [
    "dir_name = \"logs/boot_stuck\"\n",
    "file_types = \"txt\""
   ]
  },
  {
   "cell_type": "code",
   "execution_count": 3,
   "id": "6fc82e58",
   "metadata": {},
   "outputs": [],
   "source": [
    "file_mgr = LocalFilesManager(file_types=file_types, dir_name=dir_name)"
   ]
  },
  {
   "cell_type": "code",
   "execution_count": 4,
   "id": "12ed911d",
   "metadata": {},
   "outputs": [
    {
     "name": "stderr",
     "output_type": "stream",
     "text": [
      "2024-01-25 15:58:27,917 - INFO - Found 51 files.\n"
     ]
    }
   ],
   "source": [
    "all_files = file_mgr.find_all_files()"
   ]
  },
  {
   "cell_type": "code",
   "execution_count": 8,
   "id": "bc267bd7",
   "metadata": {},
   "outputs": [
    {
     "name": "stderr",
     "output_type": "stream",
     "text": [
      "2024-01-25 16:04:45,688 - INFO - There are 6 files matched keywords.\n"
     ]
    }
   ],
   "source": [
    "aplog_files_hash = file_mgr.find_files_with_keywords(inclusive_keywords=\"aplogcat\")\n",
    "output_aplog_file = os.path.join(file_mgr.target_dir, \"aplogcat.txt\")\n",
    "file_mgr.concat_txt_files(aplog_files_hash, output_aplog_file)"
   ]
  },
  {
   "cell_type": "code",
   "execution_count": 7,
   "id": "4ceb4550",
   "metadata": {},
   "outputs": [
    {
     "name": "stderr",
     "output_type": "stream",
     "text": [
      "2024-01-25 16:03:49,421 - INFO - There are 12 files matched keywords.\n"
     ]
    }
   ],
   "source": [
    "kernel_files_hash = file_mgr.find_files_with_keywords(inclusive_keywords=\"kernel\")\n",
    "output_kernel_file = os.path.join(file_mgr.target_dir, \"kernel_log.txt\")\n",
    "file_mgr.concat_txt_files(kernel_files_hash, output_kernel_file)"
   ]
  },
  {
   "cell_type": "code",
   "execution_count": null,
   "id": "32db4e60",
   "metadata": {},
   "outputs": [],
   "source": []
  },
  {
   "cell_type": "code",
   "execution_count": null,
   "id": "ecf1dfa1",
   "metadata": {},
   "outputs": [],
   "source": []
  },
  {
   "cell_type": "code",
   "execution_count": null,
   "id": "35ea2f5f",
   "metadata": {},
   "outputs": [],
   "source": []
  }
 ],
 "metadata": {
  "kernelspec": {
   "display_name": "Python 3 (ipykernel)",
   "language": "python",
   "name": "python3"
  },
  "language_info": {
   "codemirror_mode": {
    "name": "ipython",
    "version": 3
   },
   "file_extension": ".py",
   "mimetype": "text/x-python",
   "name": "python",
   "nbconvert_exporter": "python",
   "pygments_lexer": "ipython3",
   "version": "3.9.7"
  }
 },
 "nbformat": 4,
 "nbformat_minor": 5
}
